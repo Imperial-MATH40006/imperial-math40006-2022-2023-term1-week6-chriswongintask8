{
 "cells": [
  {
   "cell_type": "code",
   "execution_count": 8,
   "metadata": {},
   "outputs": [
    {
     "name": "stdout",
     "output_type": "stream",
     "text": [
      "Autograder loaded successfully!\n",
      "Remember to always restart and run all from the Kernel menu before submitting!\n"
     ]
    }
   ],
   "source": [
    "from autograder_term1week6 import *\n",
    "_globals = globals()"
   ]
  },
  {
   "cell_type": "markdown",
   "metadata": {
    "deletable": false,
    "editable": false,
    "nbgrader": {
     "cell_type": "markdown",
     "checksum": "fec4c420398c4017bb00a2e3546bbfec",
     "grade": false,
     "grade_id": "cell-08705352561fd721",
     "locked": true,
     "schema_version": 3,
     "solution": false,
     "task": false
    }
   },
   "source": [
    "# <center> Introduction to Mathematical Computing </center>\n",
    "### <center> Phil Ramsden </center>\n",
    "\n",
    "# <center> Worksheet 2: Data types and data structures </center>\n",
    "\n",
    "**NOTE:** When answering a question, remember to remove the `raise NotImplementedError()` line."
   ]
  },
  {
   "cell_type": "markdown",
   "metadata": {
    "deletable": false,
    "editable": false,
    "nbgrader": {
     "cell_type": "markdown",
     "checksum": "f280bc4b36671955bf64fabc98bdef7b",
     "grade": false,
     "grade_id": "cell-9ab16363033e2302",
     "locked": true,
     "schema_version": 3,
     "solution": false,
     "task": false
    }
   },
   "source": [
    "## Question 0: don't miss this bit!\n",
    "\n",
    "In the file called `my_username.txt`, type your <b>short-form College user name</b> (this will usually be one or more letters followed by three or more figures, such as qk4019). Don't use quote marks. Then save the file."
   ]
  },
  {
   "cell_type": "code",
   "execution_count": 8,
   "metadata": {
    "deletable": false,
    "editable": false,
    "nbgrader": {
     "cell_type": "code",
     "checksum": "800d6bf9f1bfc1d2468d191cfbd4a638",
     "grade": true,
     "grade_id": "cell-868cf04772d4f7d4",
     "locked": true,
     "points": 5,
     "schema_version": 3,
     "solution": false,
     "task": false
    }
   },
   "outputs": [
    {
     "name": "stdout",
     "output_type": "stream",
     "text": [
      "You've changed the contents of the file; thank you!\n",
      "Your username has been recognised; thank you!\n",
      "\n",
      "5 out of 5 marks\n"
     ]
    },
    {
     "data": {
      "text/plain": [
       "5"
      ]
     },
     "execution_count": 8,
     "metadata": {},
     "output_type": "execute_result"
    }
   ],
   "source": [
    "# 5 Marks\n",
    "# Do not try to delete this cell\n",
    "# Run this cell for grading of Question 0\n",
    "_globals = globals()\n",
    "question0(_globals)"
   ]
  },
  {
   "cell_type": "markdown",
   "metadata": {
    "deletable": false,
    "editable": false,
    "nbgrader": {
     "cell_type": "markdown",
     "checksum": "694462461922a6fb34178e60a4f4a558",
     "grade": false,
     "grade_id": "cell-03d0b1d10842dd6e",
     "locked": true,
     "schema_version": 3,
     "solution": false,
     "task": false
    }
   },
   "source": [
    "## Question 1(i)\n",
    "\n",
    "(a) Define ints <code>int1</code>, <code>int2</code> and <code>int3</code> equal to, respectively, 123, 456 and 789."
   ]
  },
  {
   "cell_type": "code",
   "execution_count": 102,
   "metadata": {
    "deletable": false,
    "nbgrader": {
     "cell_type": "code",
     "checksum": "e05f1eaa7b310cc0fd5194f4d1730dec",
     "grade": false,
     "grade_id": "cell-f6b69f6c0f33441a",
     "locked": false,
     "schema_version": 3,
     "solution": true,
     "task": false
    }
   },
   "outputs": [],
   "source": [
    "int1 = 123\n",
    "int2 = 456\n",
    "int3 = 789\n"
   ]
  },
  {
   "cell_type": "code",
   "execution_count": 9,
   "metadata": {
    "deletable": false,
    "editable": false,
    "nbgrader": {
     "cell_type": "code",
     "checksum": "6fadf00084a78aa026fc7367e5a2585d",
     "grade": true,
     "grade_id": "cell-54797219db211091",
     "locked": true,
     "points": 3,
     "schema_version": 3,
     "solution": false,
     "task": false
    }
   },
   "outputs": [
    {
     "name": "stdout",
     "output_type": "stream",
     "text": [
      "3 out of 3 tests passed\n"
     ]
    },
    {
     "data": {
      "text/plain": [
       "3"
      ]
     },
     "execution_count": 9,
     "metadata": {},
     "output_type": "execute_result"
    }
   ],
   "source": [
    "# 3 Marks\n",
    "# Do not try to delete this cell\n",
    "# Run this cell for grading\n",
    "_globals = globals()\n",
    "question1_i_a(_globals)# 3 Marks\n"
   ]
  },
  {
   "cell_type": "markdown",
   "metadata": {
    "deletable": false,
    "editable": false,
    "nbgrader": {
     "cell_type": "markdown",
     "checksum": "f3adc7b8651850aca1b1d1f904df52b1",
     "grade": false,
     "grade_id": "cell-cdddae7e3789b0ab",
     "locked": true,
     "schema_version": 3,
     "solution": false,
     "task": false
    }
   },
   "source": [
    "(b) Define <b>floats</b> <code>float1</code>, <code>float2</code> and <code>float3</code> with the same numerical values as <code>int1</code>, <code>int2</code> and <code>int3</code>, respectively."
   ]
  },
  {
   "cell_type": "code",
   "execution_count": 16,
   "metadata": {
    "deletable": false,
    "nbgrader": {
     "cell_type": "code",
     "checksum": "ce1056fe6f42b68561950ba483cbb9b9",
     "grade": false,
     "grade_id": "cell-b54f78cd269916a2",
     "locked": false,
     "schema_version": 3,
     "solution": true,
     "task": false
    }
   },
   "outputs": [],
   "source": [
    "float1 = 123.0\n",
    "float2 = 456.0\n",
    "float3 = 789.0"
   ]
  },
  {
   "cell_type": "code",
   "execution_count": 17,
   "metadata": {
    "deletable": false,
    "editable": false,
    "nbgrader": {
     "cell_type": "code",
     "checksum": "39f87fb170ffb1ab1d4e449223a5ddfb",
     "grade": true,
     "grade_id": "cell-0ebff7f8b80df518",
     "locked": true,
     "points": 3,
     "schema_version": 3,
     "solution": false,
     "task": false
    }
   },
   "outputs": [
    {
     "name": "stdout",
     "output_type": "stream",
     "text": [
      "3 out of 3 tests passed\n"
     ]
    },
    {
     "data": {
      "text/plain": [
       "3"
      ]
     },
     "execution_count": 17,
     "metadata": {},
     "output_type": "execute_result"
    }
   ],
   "source": [
    "# 3 Marks\n",
    "# Do not try to delete this cell\n",
    "# Run this cell for grading\n",
    "_globals = globals()\n",
    "question1_i_b(_globals)"
   ]
  },
  {
   "cell_type": "markdown",
   "metadata": {
    "deletable": false,
    "editable": false,
    "nbgrader": {
     "cell_type": "markdown",
     "checksum": "c7b1a78c03213d5ea00cff604176bfb5",
     "grade": false,
     "grade_id": "cell-9e4a3cb954c1db8c",
     "locked": true,
     "schema_version": 3,
     "solution": false,
     "task": false
    }
   },
   "source": [
    "(c) By experimenting with your six variables, answer the following multiple-choice question.\n",
    "\n",
    "If <code>x</code> is an int, and <code>y</code> is a float with the same numerical value, then \n",
    "\n",
    "<ol>\n",
    "    <li>the command <code>x == y</code> returns <code>True</code>, and <code>type(x)</code> and <code>type(y)</code> have the same value;</li>\n",
    "    <li>the command <code>x == y</code> returns <code>False</code>, and <code>type(x)</code> and <code>type(y)</code> have different values;</li>\n",
    "    <li>the command <code>x == y</code> returns <code>True</code>, but <code>type(x)</code> and <code>type(y)</code> have different values;</li>\n",
    "    <li>the command <code>x == y</code> returns <code>False</code>, but <code>type(x)</code> and <code>type(y)</code> have the same value.</li>\n",
    "</ol>\n",
    "\n",
    "Fill in the correct numerical value, 1, 2, 3 or 4, below."
   ]
  },
  {
   "cell_type": "code",
   "execution_count": 31,
   "metadata": {
    "deletable": false,
    "nbgrader": {
     "cell_type": "code",
     "checksum": "f3d62919104ccc931bbb192004a7ad6b",
     "grade": false,
     "grade_id": "cell-e5759f3ce7494418",
     "locked": false,
     "schema_version": 3,
     "solution": true,
     "task": false
    }
   },
   "outputs": [
    {
     "data": {
      "text/plain": [
       "float"
      ]
     },
     "execution_count": 31,
     "metadata": {},
     "output_type": "execute_result"
    }
   ],
   "source": [
    "question1ic_answer = 3\n",
    "type(int1)\n",
    "type(float1)"
   ]
  },
  {
   "cell_type": "code",
   "execution_count": 32,
   "metadata": {
    "deletable": false,
    "editable": false,
    "nbgrader": {
     "cell_type": "code",
     "checksum": "67ee8d19f37fc9557d32c9f33bc10cc2",
     "grade": true,
     "grade_id": "cell-4ac01a582155b515",
     "locked": true,
     "points": 1,
     "schema_version": 3,
     "solution": false,
     "task": false
    }
   },
   "outputs": [
    {
     "name": "stdout",
     "output_type": "stream",
     "text": [
      "test case passed!\n"
     ]
    }
   ],
   "source": [
    "# 1 Mark\n",
    "assert(question1ic_answer == question1_i_c())\n",
    "print('test case passed!')"
   ]
  },
  {
   "cell_type": "markdown",
   "metadata": {
    "deletable": false,
    "editable": false,
    "nbgrader": {
     "cell_type": "markdown",
     "checksum": "4f8b7466cac971787a5fa883802d2213",
     "grade": false,
     "grade_id": "cell-3bdbe7f4d8104d5c",
     "locked": true,
     "schema_version": 3,
     "solution": false,
     "task": false
    }
   },
   "source": [
    "(d) By experimenting with adding, subtracting, multiplying and dividing your variables, answer the following multiple-choice question.\n",
    "\n",
    "If we add, subtract, multiply or divide an int and a float, the result is\n",
    "\n",
    "<ol>\n",
    "    <li>always an int;</li>\n",
    "    <li>always a float;</li>\n",
    "    <li>an int or a float, depending on the operation we choose;</li>\n",
    "    <li>an int or a float, depending on whether the int or the float comes first in the expression.</li>\n",
    "</ol>\n",
    "\n",
    "Fill in the correct numerical value, 1, 2, 3 or 4, below."
   ]
  },
  {
   "cell_type": "code",
   "execution_count": 42,
   "metadata": {
    "deletable": false,
    "nbgrader": {
     "cell_type": "code",
     "checksum": "ca7f63a1c13ee8e235d025efe2a4abbd",
     "grade": false,
     "grade_id": "cell-5479e40c5e2b9e62",
     "locked": false,
     "schema_version": 3,
     "solution": true,
     "task": false
    }
   },
   "outputs": [],
   "source": [
    "question1id_answer = 2\n",
    "\n"
   ]
  },
  {
   "cell_type": "code",
   "execution_count": 43,
   "metadata": {
    "deletable": false,
    "editable": false,
    "nbgrader": {
     "cell_type": "code",
     "checksum": "fa516329eb98092bddde1483539e29ca",
     "grade": true,
     "grade_id": "cell-33e61bed96005469",
     "locked": true,
     "points": 1,
     "schema_version": 3,
     "solution": false,
     "task": false
    }
   },
   "outputs": [
    {
     "name": "stdout",
     "output_type": "stream",
     "text": [
      "test case passed!\n"
     ]
    }
   ],
   "source": [
    "# 1 Mark\n",
    "assert(question1id_answer == question1_i_d())\n",
    "print('test case passed!')"
   ]
  },
  {
   "cell_type": "markdown",
   "metadata": {
    "deletable": false,
    "editable": false,
    "nbgrader": {
     "cell_type": "markdown",
     "checksum": "f159de7db0400cb920842d4e9a20e753",
     "grade": false,
     "grade_id": "cell-36b4414b241f8c68",
     "locked": true,
     "schema_version": 3,
     "solution": false,
     "task": false
    }
   },
   "source": [
    "(e) By experimenting with raising one of your variables to the power of another, choose the true statement from the following:\n",
    "\n",
    "<ol>\n",
    "    <li>Large ints are represented as exact quantities in Python, no matter how many digits they have.</li>\n",
    "    <li>Ints above a certain size have to be represented in the form $a\\times10^r$, but if they're very large, there's an overflow error.</li>\n",
    "    <li>Ints above a certain size have to be represented in the form $a\\times10^r$, with no danger of an overflow error.</li>\n",
    "</ol>\n",
    "\n",
    "Fill in the correct numerical value, 1, 2 or 3, below."
   ]
  },
  {
   "cell_type": "code",
   "execution_count": 50,
   "metadata": {
    "deletable": false,
    "nbgrader": {
     "cell_type": "code",
     "checksum": "1c3d05810d70e89eb0b3556182a3cdd7",
     "grade": false,
     "grade_id": "cell-c07c6f59097c20c6",
     "locked": false,
     "schema_version": 3,
     "solution": true,
     "task": false
    }
   },
   "outputs": [
    {
     "data": {
      "text/plain": [
       "8547984816116086759819594586315067625867370448376366469488383963473417245594196629203705743942173795809946818737577077361244393330248008205830783321118110757143992865343295142711234157515965109443254359633340407428170596327630505646800014452531249887917297347847666736535780877534565800395801314855054302453651209435558261829426554794227292321189924247058479664215658832603292526312547390334190604137951097277654478851449001706454772447087996619848282810116090161956472503001833737780396151175300136324640943771941234963006190572604064911043912370930354765573861133826476559336970463313626746671459359309142611727100565848653386812922522148838875917723755805320718415090766410245887162008550920895407478227761050171716460449112337947317710165564668104255336175494479936028982918044362589149145103834171836115489730855223787791060030712131136438365342679287371685278757297228117714664424781515836239308745802357276794634400924556492313730703866353509531991957126855999682527511206273623757600716133225744515099834371446053417853200111938597071718533340679505349238144240107799007457793693926712925906381542753915500551190893131431493722058051615823347305762056820162818692225639038109246966959722178428761203382250711824002394711851167520089778822429959088422650043501248704017102555350578745831495835067548811467033016140836185587530230552815679579051610466631315477133594500016560386432455609597309319603095109956609273202424164069291807227971159976336530675507945445216821228995433200980388952360683735876212101130184243876368607946802511312307484442225659106311152886397408802448462122674429363013100686536229389797351170746417857894916576537375639563779159157815503701139029918531903483253711139260415406098553700107241109139378426312081168388142871953013519178600239605946507219935339179445605638181851492016847244776826869335501514972401088786727538222348660137606755245133259142607858310538841568683094343424015528178880991409958417767425684469889871003299662359013870044322247609133741048545089470120296042005349713079296639899521874423041549486409556005857606780011007518189965240956110663947166167882724404846013105908481827619673687340916161257110556190844466441225498190724823487998238863274464033180118664570683859301772728940859871129084568772414282660582921078045987959196966679452014930296051636297135339507738751217628749180839998003924349250880464914433129113245445536586532093567378257830102146678402013055181566834575683577731434870500580880148870832828172352560582493630910191217222007193173523171565708241274565539874997318481944053946405423845074992263939541866145263283173984043"
      ]
     },
     "execution_count": 50,
     "metadata": {},
     "output_type": "execute_result"
    }
   ],
   "source": [
    "question1ie_answer = 1\n",
    "int1**(int2+int3)"
   ]
  },
  {
   "cell_type": "code",
   "execution_count": 48,
   "metadata": {
    "deletable": false,
    "editable": false,
    "nbgrader": {
     "cell_type": "code",
     "checksum": "2d22152a57344c115665f51ca22967f9",
     "grade": true,
     "grade_id": "cell-8bc067badf04cc2c",
     "locked": true,
     "points": 1,
     "schema_version": 3,
     "solution": false,
     "task": false
    }
   },
   "outputs": [
    {
     "name": "stdout",
     "output_type": "stream",
     "text": [
      "test case passed!\n"
     ]
    }
   ],
   "source": [
    "# 1 Mark\n",
    "assert(question1ie_answer == question1_i_e())\n",
    "print('test case passed!')"
   ]
  },
  {
   "cell_type": "markdown",
   "metadata": {
    "deletable": false,
    "editable": false,
    "nbgrader": {
     "cell_type": "markdown",
     "checksum": "d81f40547b893eaaacb10cedcfb9b661",
     "grade": false,
     "grade_id": "cell-b6602575afe71f0d",
     "locked": true,
     "schema_version": 3,
     "solution": false,
     "task": false
    }
   },
   "source": [
    "(f) By experimenting with raising one of your variables to the power of another, choose the true statement from the following:\n",
    "\n",
    "<ol>\n",
    "    <li>Large floats are represented as exact quantities in Python, no matter how many digits they have.</li>\n",
    "    <li>Floats above a certain size have to be represented in the form $a\\times10^r$, but if they're very large, there's an overflow error.</li>\n",
    "    <li>Floats above a certain size have to be represented in the form $a\\times10^r$, with no danger of an overflow error.</li>\n",
    "</ol>\n",
    "\n",
    "Fill in the correct numerical value, 1, 2 or 3, below."
   ]
  },
  {
   "cell_type": "code",
   "execution_count": 54,
   "metadata": {
    "deletable": false,
    "nbgrader": {
     "cell_type": "code",
     "checksum": "5aceeb66aa886a43d4f63eb4a54399cc",
     "grade": false,
     "grade_id": "cell-de4b5e500d5a3858",
     "locked": false,
     "schema_version": 3,
     "solution": true,
     "task": false
    }
   },
   "outputs": [
    {
     "data": {
      "text/plain": [
       "3.88730329667319e+26"
      ]
     },
     "execution_count": 54,
     "metadata": {},
     "output_type": "execute_result"
    }
   ],
   "source": [
    "question1if_answer = 2\n",
    "float2**10"
   ]
  },
  {
   "cell_type": "code",
   "execution_count": 55,
   "metadata": {
    "deletable": false,
    "editable": false,
    "nbgrader": {
     "cell_type": "code",
     "checksum": "4eca18e710707c39db5c33dc5ab58fdc",
     "grade": true,
     "grade_id": "cell-fb8aa4e27ae298fb",
     "locked": true,
     "points": 1,
     "schema_version": 3,
     "solution": false,
     "task": false
    }
   },
   "outputs": [
    {
     "name": "stdout",
     "output_type": "stream",
     "text": [
      "test case passed!\n"
     ]
    }
   ],
   "source": [
    "# 1 Mark\n",
    "assert(question1if_answer == question1_i_f())\n",
    "print('test case passed!')"
   ]
  },
  {
   "cell_type": "markdown",
   "metadata": {
    "deletable": false,
    "editable": false,
    "nbgrader": {
     "cell_type": "markdown",
     "checksum": "e893fae696cdc6a1a30f42f06511689d",
     "grade": false,
     "grade_id": "cell-db6beeee9158a3fb",
     "locked": true,
     "schema_version": 3,
     "solution": false,
     "task": false
    }
   },
   "source": [
    "(g) Import the <code>math</code> module, and experiment with mathematical functions of ints and floats. Answer the following question.\n",
    "\n",
    "The sine, cosine, exponential and logarithmic functions in the <code>math</code> module:\n",
    "\n",
    "<ol>\n",
    "    <li>all return an int if the argument is an int, and a float if the argument is a float;</li>\n",
    "    <li>all always return an int;</li>\n",
    "    <li>all always return a float;</li>\n",
    "    <li>behave differently from one another.</li>\n",
    "</ol>\n",
    "\n",
    "Fill in the correct numerical value, 1, 2, 3 or 4, below."
   ]
  },
  {
   "cell_type": "code",
   "execution_count": 64,
   "metadata": {
    "deletable": false,
    "nbgrader": {
     "cell_type": "code",
     "checksum": "4c836fbb632c0154b48f6d75527212c8",
     "grade": false,
     "grade_id": "cell-a63c3f2e5f3a1b41",
     "locked": false,
     "schema_version": 3,
     "solution": true,
     "task": false
    }
   },
   "outputs": [
    {
     "data": {
      "text/plain": [
       "4.812184355372417"
      ]
     },
     "execution_count": 64,
     "metadata": {},
     "output_type": "execute_result"
    }
   ],
   "source": [
    "question1ig_answer = 3\n",
    "from math import*\n",
    "log(int1)"
   ]
  },
  {
   "cell_type": "code",
   "execution_count": 65,
   "metadata": {
    "deletable": false,
    "editable": false,
    "nbgrader": {
     "cell_type": "code",
     "checksum": "b99882a9de639e8e1866bc9a6b54396d",
     "grade": true,
     "grade_id": "cell-f6f2200d21835569",
     "locked": true,
     "points": 1,
     "schema_version": 3,
     "solution": false,
     "task": false
    }
   },
   "outputs": [
    {
     "name": "stdout",
     "output_type": "stream",
     "text": [
      "test case passed!\n"
     ]
    }
   ],
   "source": [
    "# 1 Mark\n",
    "assert(question1ig_answer == question1_i_g())\n",
    "print('test case passed!')"
   ]
  },
  {
   "cell_type": "markdown",
   "metadata": {
    "deletable": false,
    "editable": false,
    "nbgrader": {
     "cell_type": "markdown",
     "checksum": "09efd8a5900fcc92863208a8094a8f37",
     "grade": false,
     "grade_id": "cell-69c24b6a8b223b3d",
     "locked": true,
     "schema_version": 3,
     "solution": false,
     "task": false
    }
   },
   "source": [
    "(h) Execute the following code:"
   ]
  },
  {
   "cell_type": "code",
   "execution_count": 68,
   "metadata": {
    "deletable": false,
    "editable": false,
    "nbgrader": {
     "cell_type": "code",
     "checksum": "db420686411a90c910eb4a7dd3503acf",
     "grade": false,
     "grade_id": "cell-e6c0d80c91ec2509",
     "locked": true,
     "schema_version": 3,
     "solution": false,
     "task": false
    }
   },
   "outputs": [
    {
     "name": "stdout",
     "output_type": "stream",
     "text": [
      "1e-08\n",
      "1e-07\n",
      "1e-06\n",
      "9.999999999999999e-06\n",
      "9.999999999999999e-05\n"
     ]
    }
   ],
   "source": [
    "x = 1e-8\n",
    "print(x)\n",
    "\n",
    "x = 10*x\n",
    "print(x)\n",
    "\n",
    "x = 10*x\n",
    "print(x)\n",
    "\n",
    "x = 10*x\n",
    "print(x)\n",
    "\n",
    "x = 10*x\n",
    "print(x)"
   ]
  },
  {
   "cell_type": "markdown",
   "metadata": {
    "deletable": false,
    "editable": false,
    "nbgrader": {
     "cell_type": "markdown",
     "checksum": "e3a3c3e71699ab2e1501dde22fc77255",
     "grade": false,
     "grade_id": "cell-fce5d31734e078c3",
     "locked": true,
     "schema_version": 3,
     "solution": false,
     "task": false
    }
   },
   "source": [
    "What explains what you've just seen?\n",
    "\n",
    "<ol>\n",
    "    <li>Multiplying a float by an int can introduce an error that wasn't there before.</li>\n",
    "    <li>The number <code>1e-8</code> has an inherent error because it can't be represented precisely in binary.</li>\n",
    "    <li>The number <code>1e-8</code> has an inherent error because this form of representing numbers, in terms of a power of ten, is always imprecise.</li>\n",
    "    <li>The number <code>1e-8</code> has an inherent error because numbers this close to zero can't be represented precisely.</li>\n",
    "</ol>\n",
    "\n",
    "To help you arrive at an answer, you may like to try the following:"
   ]
  },
  {
   "cell_type": "code",
   "execution_count": 69,
   "metadata": {
    "deletable": false,
    "editable": false,
    "nbgrader": {
     "cell_type": "code",
     "checksum": "a25af53ab392d0829c9a866e8d15e31d",
     "grade": false,
     "grade_id": "cell-f1a26a70ccb2ca82",
     "locked": true,
     "schema_version": 3,
     "solution": false,
     "task": false
    }
   },
   "outputs": [
    {
     "name": "stdout",
     "output_type": "stream",
     "text": [
      "7.450580596923828e-09\n",
      "7.450580596923828e-08\n",
      "7.450580596923828e-07\n",
      "7.450580596923828e-06\n",
      "7.450580596923828e-05\n",
      "0.0007450580596923828\n",
      "0.007450580596923828\n",
      "0.07450580596923828\n"
     ]
    }
   ],
   "source": [
    "x = 1/8**9\n",
    "print(x)\n",
    "\n",
    "x = 10*x\n",
    "print(x)\n",
    "\n",
    "x = 10*x\n",
    "print(x)\n",
    "\n",
    "x = 10*x\n",
    "print(x)\n",
    "\n",
    "x = 10*x\n",
    "print(x)\n",
    "\n",
    "x = 10*x\n",
    "print(x)\n",
    "\n",
    "x = 10*x\n",
    "print(x)\n",
    "\n",
    "x = 10*x\n",
    "print(x)"
   ]
  },
  {
   "cell_type": "markdown",
   "metadata": {
    "deletable": false,
    "editable": false,
    "nbgrader": {
     "cell_type": "markdown",
     "checksum": "f1ce3b9e21a3ac03c79a1aa90b38398c",
     "grade": false,
     "grade_id": "cell-2ce7fd465e79315e",
     "locked": true,
     "schema_version": 3,
     "solution": false,
     "task": false
    }
   },
   "source": [
    "Fill in the correct numerical value, 1, 2, 3 or 4, below."
   ]
  },
  {
   "cell_type": "code",
   "execution_count": 74,
   "metadata": {
    "deletable": false,
    "nbgrader": {
     "cell_type": "code",
     "checksum": "6cfe5a833a58c7ab535c8ff6c280149e",
     "grade": false,
     "grade_id": "cell-6c67f843ad59c167",
     "locked": false,
     "schema_version": 3,
     "solution": true,
     "task": false
    }
   },
   "outputs": [],
   "source": [
    "question1ih_answer = 2\n"
   ]
  },
  {
   "cell_type": "code",
   "execution_count": 75,
   "metadata": {
    "deletable": false,
    "editable": false,
    "nbgrader": {
     "cell_type": "code",
     "checksum": "5a86fc15286bb6ecd5a60e00385c9e47",
     "grade": true,
     "grade_id": "cell-53e2d14dff895dc6",
     "locked": true,
     "points": 1,
     "schema_version": 3,
     "solution": false,
     "task": false
    }
   },
   "outputs": [
    {
     "name": "stdout",
     "output_type": "stream",
     "text": [
      "test case passed!\n"
     ]
    }
   ],
   "source": [
    "# 1 Mark\n",
    "assert(question1ih_answer == question1_i_h())\n",
    "print('test case passed!')"
   ]
  },
  {
   "cell_type": "markdown",
   "metadata": {
    "deletable": false,
    "editable": false,
    "nbgrader": {
     "cell_type": "markdown",
     "checksum": "120722607e8070c174d1b577aa0a3748",
     "grade": false,
     "grade_id": "cell-ffc11169ded6fd3b",
     "locked": true,
     "schema_version": 3,
     "solution": false,
     "task": false
    }
   },
   "source": [
    "## Question 1(ii)\n",
    "\n",
    "(a) Define the complex numbers <code>complex1</code>, <code>complex2</code> and <code>complex3</code> with the same numerical values as, respectively, <code>int1</code>, <code>int2</code> and <code>int3</code>.\n",
    "\n",
    "Using the <code>complex</code> constructor function, define <code>complex4</code>, using <code>int1</code> and <code>int2</code> as real and imaginary part, and <code>complex5</code>, using <code>float1</code> and <code>float2</code> as real and imaginary part,"
   ]
  },
  {
   "cell_type": "code",
   "execution_count": 83,
   "metadata": {
    "deletable": false,
    "nbgrader": {
     "cell_type": "code",
     "checksum": "b1d166d1093ee91e3d232f7b728dd357",
     "grade": false,
     "grade_id": "cell-ea86d15e54090326",
     "locked": false,
     "schema_version": 3,
     "solution": true,
     "task": false
    }
   },
   "outputs": [],
   "source": [
    "complex1 = 123+0j\n",
    "complex2 = 456+0j\n",
    "complex3 = 789+0j\n",
    "complex4 = 123+456j\n",
    "complex5 = 123.0+456.0j\n"
   ]
  },
  {
   "cell_type": "code",
   "execution_count": 84,
   "metadata": {
    "deletable": false,
    "editable": false,
    "nbgrader": {
     "cell_type": "code",
     "checksum": "ef9608432f2ad9c0fb3986f14fbe3391",
     "grade": true,
     "grade_id": "cell-d7d5868f5f17ec70",
     "locked": true,
     "points": 10,
     "schema_version": 3,
     "solution": false,
     "task": false
    }
   },
   "outputs": [
    {
     "name": "stdout",
     "output_type": "stream",
     "text": [
      "All solutions and object types correct!\n"
     ]
    },
    {
     "data": {
      "text/plain": [
       "10"
      ]
     },
     "execution_count": 84,
     "metadata": {},
     "output_type": "execute_result"
    }
   ],
   "source": [
    "# 10 Marks\n",
    "# Do not try to delete this cell\n",
    "# Run this cell for grading\n",
    "_globals = globals()\n",
    "question1_ii_a(_globals)"
   ]
  },
  {
   "cell_type": "markdown",
   "metadata": {
    "deletable": false,
    "editable": false,
    "nbgrader": {
     "cell_type": "markdown",
     "checksum": "1f28d3cbe80af2747a7a20c42aed5c2b",
     "grade": false,
     "grade_id": "cell-3dd6f118eed48a6e",
     "locked": true,
     "schema_version": 3,
     "solution": false,
     "task": false
    }
   },
   "source": [
    "(b) By experimenting, answer the following multiple-choice question.\n",
    "\n",
    "If <code>x</code> is an int, and <code>z</code> is a complex with the same numerical value, then \n",
    "\n",
    "<ol>\n",
    "    <li>the command <code>x == z</code> returns <code>True</code>, and <code>type(x)</code> and <code>type(z)</code> have the same value;</li>\n",
    "    <li>the command <code>x == z</code> returns <code>False</code>, and <code>type(x)</code> and <code>type(z)</code> have different values;</li>\n",
    "    <li>the command <code>x == z</code> returns <code>True</code>, but <code>type(x)</code> and <code>type(z)</code> have different values;</li>\n",
    "    <li>the command <code>x == z</code> returns <code>False</code>, but <code>type(x)</code> and <code>type(z)</code> have the same value.</li>\n",
    "</ol>\n",
    "\n",
    "Fill in the correct numerical value, 1, 2, 3 or 4, below."
   ]
  },
  {
   "cell_type": "code",
   "execution_count": 103,
   "metadata": {
    "deletable": false,
    "nbgrader": {
     "cell_type": "code",
     "checksum": "58270c98f9d090ead763f27cd51ac501",
     "grade": false,
     "grade_id": "cell-0b6aca3c14ba42ba",
     "locked": false,
     "schema_version": 3,
     "solution": true,
     "task": false
    }
   },
   "outputs": [
    {
     "data": {
      "text/plain": [
       "int"
      ]
     },
     "execution_count": 103,
     "metadata": {},
     "output_type": "execute_result"
    }
   ],
   "source": [
    "question1iib_answer = 3\n",
    "type(int1)"
   ]
  },
  {
   "cell_type": "code",
   "execution_count": 98,
   "metadata": {
    "deletable": false,
    "editable": false,
    "nbgrader": {
     "cell_type": "code",
     "checksum": "9a6e12b3272161678d1050dbc08b5e93",
     "grade": true,
     "grade_id": "cell-cee4552ab0535602",
     "locked": true,
     "points": 1,
     "schema_version": 3,
     "solution": false,
     "task": false
    }
   },
   "outputs": [
    {
     "name": "stdout",
     "output_type": "stream",
     "text": [
      "test case passed!\n"
     ]
    }
   ],
   "source": [
    "# 1 Mark\n",
    "assert(question1iib_answer == question1_ii_b())\n",
    "print('test case passed!')"
   ]
  },
  {
   "cell_type": "markdown",
   "metadata": {
    "deletable": false,
    "editable": false,
    "nbgrader": {
     "cell_type": "markdown",
     "checksum": "a7257f1d433a2f86656577ed8b521568",
     "grade": false,
     "grade_id": "cell-b7ba90142fd16815",
     "locked": true,
     "schema_version": 3,
     "solution": false,
     "task": false
    }
   },
   "source": [
    "(c) By experimenting, answer the following multiple-choice question.\n",
    "\n",
    "If <code>y</code> is a float, and <code>z</code> is a complex with the same numerical value, then \n",
    "\n",
    "<ol>\n",
    "    <li>the command <code>y == z</code> returns <code>True</code>, and <code>type(y)</code> and <code>type(z)</code> have the same value;</li>\n",
    "    <li>the command <code>y == z</code> returns <code>False</code>, and <code>type(y)</code> and <code>type(z)</code> have different values;</li>\n",
    "    <li>the command <code>y == z</code> returns <code>True</code>, but <code>type(y)</code> and <code>type(z)</code> have different values;</li>\n",
    "    <li>the command <code>y == z</code> returns <code>False</code>, but <code>type(y)</code> and <code>type(z)</code> have the same value.</li>\n",
    "</ol>\n",
    "\n",
    "Fill in the correct numerical value, 1, 2, 3 or 4, below."
   ]
  },
  {
   "cell_type": "code",
   "execution_count": 111,
   "metadata": {
    "deletable": false,
    "nbgrader": {
     "cell_type": "code",
     "checksum": "cf8f61a3809c280aa9a02eb5ac314000",
     "grade": false,
     "grade_id": "cell-851a99484184f3d8",
     "locked": false,
     "schema_version": 3,
     "solution": true,
     "task": false
    }
   },
   "outputs": [
    {
     "data": {
      "text/plain": [
       "True"
      ]
     },
     "execution_count": 111,
     "metadata": {},
     "output_type": "execute_result"
    }
   ],
   "source": [
    "question1iic_answer = 3\n",
    "123.0==123+0j"
   ]
  },
  {
   "cell_type": "code",
   "execution_count": 109,
   "metadata": {
    "deletable": false,
    "editable": false,
    "nbgrader": {
     "cell_type": "code",
     "checksum": "514948e6918b8c519c24dd31124730e6",
     "grade": true,
     "grade_id": "cell-cb59d57abf447995",
     "locked": true,
     "points": 1,
     "schema_version": 3,
     "solution": false,
     "task": false
    }
   },
   "outputs": [
    {
     "name": "stdout",
     "output_type": "stream",
     "text": [
      "test case passed!\n"
     ]
    }
   ],
   "source": [
    "# 1 Mark\n",
    "assert(question1iic_answer == question1_ii_c())\n",
    "print('test case passed!')"
   ]
  },
  {
   "cell_type": "markdown",
   "metadata": {
    "deletable": false,
    "editable": false,
    "nbgrader": {
     "cell_type": "markdown",
     "checksum": "49a3d064f20805a319338d38c44c0db8",
     "grade": false,
     "grade_id": "cell-0097d8e066317086",
     "locked": true,
     "schema_version": 3,
     "solution": false,
     "task": false
    }
   },
   "source": [
    "(d) By experimenting, answer the following multiple-choice question.\n",
    "\n",
    "If we add, subtract, multiply or divide an int and a complex, the result is\n",
    "\n",
    "<ol>\n",
    "    <li>always an int;</li>\n",
    "    <li>always a complex;</li>\n",
    "    <li>an int or a complex, depending on the operation we choose;</li>\n",
    "    <li>an int or a complex, depending on whether the int or the complex comes first in the expression.</li>\n",
    "</ol>\n",
    "\n",
    "Fill in the correct numerical value, 1, 2, 3 or 4, below.\n",
    "\n"
   ]
  },
  {
   "cell_type": "code",
   "execution_count": 112,
   "metadata": {
    "deletable": false,
    "nbgrader": {
     "cell_type": "code",
     "checksum": "c66bcd5d365a6fdab4b86284e414cadd",
     "grade": false,
     "grade_id": "cell-21c341b2ccad6e5c",
     "locked": false,
     "schema_version": 3,
     "solution": true,
     "task": false
    }
   },
   "outputs": [],
   "source": [
    "question1iid_answer = 2"
   ]
  },
  {
   "cell_type": "code",
   "execution_count": 113,
   "metadata": {
    "deletable": false,
    "editable": false,
    "nbgrader": {
     "cell_type": "code",
     "checksum": "683604d9058405e31b7be5132e8b34bd",
     "grade": true,
     "grade_id": "cell-4aa901bc8a543643",
     "locked": true,
     "points": 1,
     "schema_version": 3,
     "solution": false,
     "task": false
    }
   },
   "outputs": [
    {
     "name": "stdout",
     "output_type": "stream",
     "text": [
      "test case passed!\n"
     ]
    }
   ],
   "source": [
    "# 1 Mark\n",
    "assert(question1iid_answer == question1_ii_d())\n",
    "print('test case passed!')"
   ]
  },
  {
   "cell_type": "markdown",
   "metadata": {
    "deletable": false,
    "editable": false,
    "nbgrader": {
     "cell_type": "markdown",
     "checksum": "02ac050d17d70affef6d2e5b455ba40a",
     "grade": false,
     "grade_id": "cell-af0862fd096cb8a8",
     "locked": true,
     "schema_version": 3,
     "solution": false,
     "task": false
    }
   },
   "source": [
    "(e) By experimenting, answer the following multiple-choice question.\n",
    "\n",
    "If we add, subtract, multiply or divide a float and a complex, the result is\n",
    "\n",
    "<ol>\n",
    "    <li>always a float;</li>\n",
    "    <li>always a complex;</li>\n",
    "    <li>a float or a complex, depending on the operation we choose;</li>\n",
    "    <li>a float or a complex, depending on whether the float or the complex comes first in the expression.</li>\n",
    "</ol>\n",
    "\n",
    "Fill in the correct numerical value, 1, 2, 3 or 4, below."
   ]
  },
  {
   "cell_type": "code",
   "execution_count": 114,
   "metadata": {
    "deletable": false,
    "nbgrader": {
     "cell_type": "code",
     "checksum": "3c5b47e0b9ecdd1d00481b768348f3b2",
     "grade": false,
     "grade_id": "cell-020ae20e70e4982a",
     "locked": false,
     "schema_version": 3,
     "solution": true,
     "task": false
    }
   },
   "outputs": [],
   "source": [
    "question1iie_answer = 2"
   ]
  },
  {
   "cell_type": "code",
   "execution_count": 115,
   "metadata": {
    "deletable": false,
    "editable": false,
    "nbgrader": {
     "cell_type": "code",
     "checksum": "e1015d1e5fd570275e443cbc12fc7172",
     "grade": true,
     "grade_id": "cell-284978c168e50d93",
     "locked": true,
     "points": 1,
     "schema_version": 3,
     "solution": false,
     "task": false
    }
   },
   "outputs": [
    {
     "name": "stdout",
     "output_type": "stream",
     "text": [
      "test case passed!\n"
     ]
    }
   ],
   "source": [
    "# 1 Mark\n",
    "assert(question1iie_answer == question1_ii_e())\n",
    "print('test case passed!')"
   ]
  },
  {
   "cell_type": "markdown",
   "metadata": {
    "deletable": false,
    "editable": false,
    "nbgrader": {
     "cell_type": "markdown",
     "checksum": "5bfc297afabcf095d98c6b878b307a67",
     "grade": false,
     "grade_id": "cell-cd893683eee56fca",
     "locked": true,
     "schema_version": 3,
     "solution": false,
     "task": false
    }
   },
   "source": [
    "(f) By experimenting with commands like\n",
    "\n",
    "```python\n",
    "complex1.real\n",
    "```\n",
    "\n",
    "and\n",
    "\n",
    "```python\n",
    "complex1.imag\n",
    "```\n",
    "\n",
    "answer the following multiple choice question.\n",
    "\n",
    "The real and imaginary parts of a complex are\n",
    "\n",
    "<ol>\n",
    "    <li>always ints;</li>\n",
    "    <li>always floats;</li>    \n",
    "    <li>sometimes ints and sometimes floats.</li>\n",
    "</ol>\n",
    "\n",
    "Fill in the correct numerical value, 1, 2 or 3, below."
   ]
  },
  {
   "cell_type": "code",
   "execution_count": 119,
   "metadata": {
    "deletable": false,
    "nbgrader": {
     "cell_type": "code",
     "checksum": "ff686dbca5467ae1475e612afd5eb59b",
     "grade": false,
     "grade_id": "cell-647289a9bef34648",
     "locked": false,
     "schema_version": 3,
     "solution": true,
     "task": false
    }
   },
   "outputs": [
    {
     "data": {
      "text/plain": [
       "123.0"
      ]
     },
     "execution_count": 119,
     "metadata": {},
     "output_type": "execute_result"
    }
   ],
   "source": [
    "question1iif_answer = 2\n",
    "complex1.real"
   ]
  },
  {
   "cell_type": "code",
   "execution_count": 120,
   "metadata": {
    "deletable": false,
    "editable": false,
    "nbgrader": {
     "cell_type": "code",
     "checksum": "8a4eb241d0340c4fbfffb42fc222bf12",
     "grade": true,
     "grade_id": "cell-06ca8da159c442f9",
     "locked": true,
     "points": 1,
     "schema_version": 3,
     "solution": false,
     "task": false
    }
   },
   "outputs": [
    {
     "name": "stdout",
     "output_type": "stream",
     "text": [
      "test case passed!\n"
     ]
    }
   ],
   "source": [
    "# 1 Mark\n",
    "assert(question1iif_answer == question1_ii_f())\n",
    "print('test case passed!')"
   ]
  },
  {
   "cell_type": "markdown",
   "metadata": {
    "deletable": false,
    "editable": false,
    "nbgrader": {
     "cell_type": "markdown",
     "checksum": "99d01fda59ca55c77e3c017791b8492b",
     "grade": false,
     "grade_id": "cell-58983d8f22127d2b",
     "locked": true,
     "schema_version": 3,
     "solution": false,
     "task": false
    }
   },
   "source": [
    "(g) Experiment with doing arithmetic with `True` and `False`, via code like\n",
    "```python\n",
    "2 + True\n",
    "5 * False\n",
    "7 ** False\n",
    "exp(True)\n",
    "```\n",
    "\n",
    "Which of the following statements is true?\n",
    "\n",
    "<ol>\n",
    "    <li>It is not possible to do arithmetic with Boolean data;</li>\n",
    "    <li>It is possible to do arithmetic with Boolean data, and <code>False</code> and <code>True</code> are treated like <code>0</code> and <code>1</code> respectively;</li>\n",
    "    <li>It is possible to do arithmetic with Boolean data, and <code>False</code> and <code>True</code> are treated like <code>-1</code> and <code>1</code> respectively.</li>\n",
    "</ol>\n",
    "\n",
    "Fill in the correct numerical value, 1, 2 or 3, below."
   ]
  },
  {
   "cell_type": "code",
   "execution_count": 124,
   "metadata": {
    "deletable": false,
    "nbgrader": {
     "cell_type": "code",
     "checksum": "0862efb9bc77aeaf91071662a0ffa0ec",
     "grade": false,
     "grade_id": "cell-83aa3cd1875fed96",
     "locked": false,
     "schema_version": 3,
     "solution": true,
     "task": false
    }
   },
   "outputs": [
    {
     "data": {
      "text/plain": [
       "0"
      ]
     },
     "execution_count": 124,
     "metadata": {},
     "output_type": "execute_result"
    }
   ],
   "source": [
    "question1iig_answer = 2\n",
    "5*False"
   ]
  },
  {
   "cell_type": "code",
   "execution_count": 125,
   "metadata": {
    "deletable": false,
    "editable": false,
    "nbgrader": {
     "cell_type": "code",
     "checksum": "e5f4f8c4c9b6df44eae20af91c966f3c",
     "grade": true,
     "grade_id": "cell-26cf1638c93c2fb9",
     "locked": true,
     "points": 1,
     "schema_version": 3,
     "solution": false,
     "task": false
    }
   },
   "outputs": [
    {
     "name": "stdout",
     "output_type": "stream",
     "text": [
      "test case passed!\n"
     ]
    }
   ],
   "source": [
    "# 1 Mark\n",
    "assert(question1iig_answer == question1_ii_g())\n",
    "print('test case passed!')"
   ]
  },
  {
   "cell_type": "markdown",
   "metadata": {
    "deletable": false,
    "editable": false,
    "nbgrader": {
     "cell_type": "markdown",
     "checksum": "908163ed34f92b6613950b024c22644e",
     "grade": false,
     "grade_id": "cell-64b450881b0656b2",
     "locked": true,
     "schema_version": 3,
     "solution": false,
     "task": false
    }
   },
   "source": [
    "(h) Investigate the `^` operator when used on Boolean data, via code such as\n",
    "```python\n",
    "True ^ False\n",
    "3<4 ^ 2==2\n",
    "``` \n",
    "and so on. Which of the following is true?\n",
    "\n",
    "<ol>\n",
    "    <li>For any Boolean expressions <code>p</code> and <code>q</code>, <code>p ^ q</code> is the same as <code>p or q</code>;</li>\n",
    "    <li>For any Boolean expressions <code>p</code> and <code>q</code>, <code>p ^ q</code> is the same as <code>p and q</code>;</li>\n",
    "    <li>For any Boolean expressions <code>p</code> and <code>q</code>, <code>p ^ q</code> is the same as <code>not (p or q)</code>;</li>\n",
    "    <li>For any Boolean expressions <code>p</code> and <code>q</code>, <code>p ^ q</code> is the same as <code>not (p and q)</code>;</li>\n",
    "    <li>For any Boolean expressions <code>p</code> and <code>q</code>, <code>p ^ q</code> is the same as <code>(p or q) and not (p and q)</code>.</li>\n",
    "</ol>\n",
    "\n",
    "Fill in the correct numerical value, 1, 2, 3, 4 or 5, below."
   ]
  },
  {
   "cell_type": "code",
   "execution_count": 134,
   "metadata": {
    "deletable": false,
    "nbgrader": {
     "cell_type": "code",
     "checksum": "f472bbc7892b5e4307edd8ddd3fcd4fa",
     "grade": false,
     "grade_id": "cell-2ebab91f303381ef",
     "locked": false,
     "schema_version": 3,
     "solution": true,
     "task": false
    }
   },
   "outputs": [
    {
     "data": {
      "text/plain": [
       "False"
      ]
     },
     "execution_count": 134,
     "metadata": {},
     "output_type": "execute_result"
    }
   ],
   "source": [
    "question1iih_answer = 5\n",
    "False^False"
   ]
  },
  {
   "cell_type": "code",
   "execution_count": 135,
   "metadata": {
    "deletable": false,
    "editable": false,
    "nbgrader": {
     "cell_type": "code",
     "checksum": "f094348f8ba999f107eb7e453fec55f7",
     "grade": true,
     "grade_id": "cell-7a82b8797fa34f56",
     "locked": true,
     "points": 1,
     "schema_version": 3,
     "solution": false,
     "task": false
    }
   },
   "outputs": [
    {
     "name": "stdout",
     "output_type": "stream",
     "text": [
      "test case passed!\n"
     ]
    }
   ],
   "source": [
    "# 1 Mark\n",
    "assert(question1iih_answer == question1_ii_h())\n",
    "print('test case passed!')"
   ]
  },
  {
   "cell_type": "markdown",
   "metadata": {
    "deletable": false,
    "editable": false,
    "nbgrader": {
     "cell_type": "markdown",
     "checksum": "6fa9a69cf82d73a382c13b59ac8c4762",
     "grade": false,
     "grade_id": "cell-bced17510431f761",
     "locked": true,
     "schema_version": 3,
     "solution": false,
     "task": false
    }
   },
   "source": [
    "(i) Investigate the `^` operator when used with ints, via code such as\n",
    "```python\n",
    "4 ^ 5\n",
    "4 ^ 8\n",
    "```\n",
    "and so on. Write down a short description of what it does. (Autograding can't help here.)"
   ]
  },
  {
   "cell_type": "code",
   "execution_count": 3,
   "metadata": {},
   "outputs": [],
   "source": [
    "#The ^ operator converted both ints to their binary form and compared their bits bitwise.\n"
   ]
  },
  {
   "cell_type": "markdown",
   "metadata": {
    "deletable": false,
    "editable": false,
    "nbgrader": {
     "cell_type": "markdown",
     "checksum": "8bee83cb9e1b86b2e2a4fd028bbf0bd2",
     "grade": false,
     "grade_id": "cell-db6e60221190327d",
     "locked": true,
     "schema_version": 3,
     "solution": false,
     "task": false
    }
   },
   "source": [
    "## Question 2(i)\n",
    "\n",
    "For the given string <code>string1</code>, calculate\n",
    "\n",
    "(a) A string containing all the characters of <code>string1</code> between the first and the 15th inclusive (that is, those with indexes between 0 and 14 inclusive).\n",
    "\n",
    "(b) A string containing the first, third, fifth characters, etc, of <code>string1</code>, up to the 15th, inclusive (that is, those with <em>even</em> indexes between 0 and 14 inclusive).\n",
    "\n",
    "(c) A version of <code>string1</code> entirely in upper case.\n",
    "\n",
    "(d) A single string consisting of three copies of <code>string1</code> one after the other. "
   ]
  },
  {
   "cell_type": "code",
   "execution_count": 15,
   "metadata": {
    "deletable": false,
    "nbgrader": {
     "cell_type": "code",
     "checksum": "ec50e70bbc4761e160f2a129b2c9f62c",
     "grade": false,
     "grade_id": "cell-2d7d7363cf1d2a85",
     "locked": false,
     "schema_version": 3,
     "solution": true,
     "task": false
    }
   },
   "outputs": [
    {
     "name": "stdout",
     "output_type": "stream",
     "text": [
      "The quick brown\n",
      "Teqikbon\n",
      "THE QUICK BROWN FOX JUMPS OVER THE LAZY DOG\n",
      "The quick brown fox jumps over the lazy dogThe quick brown fox jumps over the lazy dogThe quick brown fox jumps over the lazy dog\n"
     ]
    }
   ],
   "source": [
    "string1 = 'The quick brown fox jumps over the lazy dog'\n",
    "\n",
    "q2ia_answer = string1[0:15]\n",
    "q2ib_answer = string1[0:15:2]\n",
    "q2ic_answer = string1.upper()\n",
    "q2id_answer = string1 + string1 + string1\n",
    "print(q2ia_answer)\n",
    "print(q2ib_answer)\n",
    "print(q2ic_answer)\n",
    "print(q2id_answer)\n",
    "\n"
   ]
  },
  {
   "cell_type": "code",
   "execution_count": 18,
   "metadata": {
    "deletable": false,
    "editable": false,
    "nbgrader": {
     "cell_type": "code",
     "checksum": "aa0f1d8e80129dd6de8cd62b1ad8159c",
     "grade": true,
     "grade_id": "cell-0708126b0ea18264",
     "locked": true,
     "points": 4,
     "schema_version": 3,
     "solution": false,
     "task": false
    }
   },
   "outputs": [
    {
     "name": "stdout",
     "output_type": "stream",
     "text": [
      "All tests passed!!\n"
     ]
    },
    {
     "data": {
      "text/plain": [
       "4"
      ]
     },
     "execution_count": 18,
     "metadata": {},
     "output_type": "execute_result"
    }
   ],
   "source": [
    "# 4 Marks\n",
    "# Do not try to delete this cell\n",
    "# Run this cell for grading\n",
    "_globals = globals()\n",
    "question2_i(_globals)"
   ]
  },
  {
   "cell_type": "markdown",
   "metadata": {
    "deletable": false,
    "editable": false,
    "nbgrader": {
     "cell_type": "markdown",
     "checksum": "6ebcfdf985c671b0dfa16de6d3dd5c79",
     "grade": false,
     "grade_id": "cell-109abd18f8e5c3e3",
     "locked": true,
     "schema_version": 3,
     "solution": false,
     "task": false
    }
   },
   "source": [
    "## Question 2(ii)\n",
    "\n",
    "For the given list <code>list1</code>, calculate\n",
    "\n",
    "(a) A list containing all the elements of <code>list1</code> between the first and the 11th inclusive (that is, those with indexes between 0 and 10 inclusive).\n",
    "\n",
    "(b) A list containing the first, third, fifth elements, etc, of <code>list1</code>, up to the 11th, inclusive (that is, those with <em>even</em> indexes between 0 and 10 inclusive).\n",
    "\n",
    "(c) A single list consisting of three copies of <code>list1</code>, one after the other. "
   ]
  },
  {
   "cell_type": "code",
   "execution_count": 23,
   "metadata": {
    "deletable": false,
    "nbgrader": {
     "cell_type": "code",
     "checksum": "b9eac7c13ff096c3e325c77af9d2e89c",
     "grade": false,
     "grade_id": "cell-4b61ddd6fa75232e",
     "locked": false,
     "schema_version": 3,
     "solution": true,
     "task": false
    }
   },
   "outputs": [
    {
     "name": "stdout",
     "output_type": "stream",
     "text": [
      "[0j, 'one', 2, 3.0, (4+0j), 'five', 6, 7.0, (8+0j), 'nine', 10]\n",
      "[0j, 2, (4+0j), 6, (8+0j), 10]\n",
      "[0j, 'one', 2, 3.0, (4+0j), 'five', 6, 7.0, (8+0j), 'nine', 10, 11.0, (12+0j), 'thirteen', 14, 15.0, 0j, 'one', 2, 3.0, (4+0j), 'five', 6, 7.0, (8+0j), 'nine', 10, 11.0, (12+0j), 'thirteen', 14, 15.0, 0j, 'one', 2, 3.0, (4+0j), 'five', 6, 7.0, (8+0j), 'nine', 10, 11.0, (12+0j), 'thirteen', 14, 15.0]\n"
     ]
    }
   ],
   "source": [
    "list1 = [0+0j, 'one', 2, 3.0, 4+0j, 'five', 6, 7.0, 8+0j, 'nine', 10, 11.0, 12+0j, 'thirteen', 14, 15.0]\n",
    "\n",
    "q2iia_answer = list1[0:11]\n",
    "q2iib_answer = list1[0:11:2]\n",
    "q2iic_answer = list1+list1+list1\n",
    "print(q2iia_answer)\n",
    "print(q2iib_answer)\n",
    "print(q2iic_answer)\n",
    "\n"
   ]
  },
  {
   "cell_type": "code",
   "execution_count": 24,
   "metadata": {
    "deletable": false,
    "editable": false,
    "nbgrader": {
     "cell_type": "code",
     "checksum": "5175a7c357b0796ad016c82e0b59a02a",
     "grade": true,
     "grade_id": "cell-1b662e29550d694b",
     "locked": true,
     "points": 3,
     "schema_version": 3,
     "solution": false,
     "task": false
    }
   },
   "outputs": [
    {
     "name": "stdout",
     "output_type": "stream",
     "text": [
      "All tests passed!!\n"
     ]
    },
    {
     "data": {
      "text/plain": [
       "3"
      ]
     },
     "execution_count": 24,
     "metadata": {},
     "output_type": "execute_result"
    }
   ],
   "source": [
    "# 3 Marks\n",
    "# Do not try to delete this cell\n",
    "# Run this cell for grading\n",
    "_globals = globals()\n",
    "question2_ii(_globals)"
   ]
  },
  {
   "cell_type": "markdown",
   "metadata": {
    "deletable": false,
    "editable": false,
    "nbgrader": {
     "cell_type": "markdown",
     "checksum": "8bf01e1bb03a35b3b15dc3bd09826ba4",
     "grade": false,
     "grade_id": "cell-03199112fac280b7",
     "locked": true,
     "schema_version": 3,
     "solution": false,
     "task": false
    }
   },
   "source": [
    "## Question 2(iii)\n",
    "\n",
    "For the given tuple <code>tuple1</code>, calculate\n",
    "\n",
    "(a) A tuple containing all the elements of <code>tuple1</code> between the first and the 11th inclusive.\n",
    "\n",
    "(b) A tuple containing the first, third, fifth elements, etc, of <code>tuple1</code>, up to the 11th, inclusive.\n",
    "\n",
    "(c) A single tuple consisting of three copies of <code>tuple1</code>, one after the other. "
   ]
  },
  {
   "cell_type": "code",
   "execution_count": 27,
   "metadata": {
    "deletable": false,
    "nbgrader": {
     "cell_type": "code",
     "checksum": "af83ab879dccc779ebcd9b348b919517",
     "grade": false,
     "grade_id": "cell-b8aa41567b78e5e8",
     "locked": false,
     "schema_version": 3,
     "solution": true,
     "task": false
    }
   },
   "outputs": [
    {
     "name": "stdout",
     "output_type": "stream",
     "text": [
      "(0j, 'one', 2, 3.0, (4+0j), 'five', 6, 7.0, (8+0j), 'nine', 10)\n",
      "(0j, 2, (4+0j), 6, (8+0j), 10)\n",
      "(0j, 'one', 2, 3.0, (4+0j), 'five', 6, 7.0, (8+0j), 'nine', 10, 11.0, (12+0j), 'thirteen', 14, 15.0, 0j, 'one', 2, 3.0, (4+0j), 'five', 6, 7.0, (8+0j), 'nine', 10, 11.0, (12+0j), 'thirteen', 14, 15.0, 0j, 'one', 2, 3.0, (4+0j), 'five', 6, 7.0, (8+0j), 'nine', 10, 11.0, (12+0j), 'thirteen', 14, 15.0)\n"
     ]
    }
   ],
   "source": [
    "tuple1 = (0+0j, 'one', 2, 3.0, 4+0j, 'five', 6, 7.0, 8+0j, 'nine', 10, 11.0, 12+0j, 'thirteen', 14, 15.0)\n",
    "\n",
    "q2iiia_answer = tuple1[0:11]\n",
    "q2iiib_answer = tuple1[0:11:2]\n",
    "q2iiic_answer = tuple1*3\n",
    "print(q2iiia_answer)\n",
    "print(q2iiib_answer)\n",
    "print(q2iiic_answer)\n",
    "\n"
   ]
  },
  {
   "cell_type": "code",
   "execution_count": 40,
   "metadata": {
    "deletable": false,
    "editable": false,
    "nbgrader": {
     "cell_type": "code",
     "checksum": "061ba7f04692382a7a78a3391bc8e6ed",
     "grade": true,
     "grade_id": "cell-e604802244cecd7a",
     "locked": true,
     "points": 3,
     "schema_version": 3,
     "solution": false,
     "task": false
    }
   },
   "outputs": [
    {
     "name": "stdout",
     "output_type": "stream",
     "text": [
      "All tests passed!!\n"
     ]
    },
    {
     "data": {
      "text/plain": [
       "3"
      ]
     },
     "execution_count": 40,
     "metadata": {},
     "output_type": "execute_result"
    }
   ],
   "source": [
    "# 3 Marks\n",
    "# Do not try to delete this cell\n",
    "# Run this cell for grading\n",
    "_globals = globals()\n",
    "question2_iii(_globals)"
   ]
  },
  {
   "cell_type": "markdown",
   "metadata": {
    "deletable": false,
    "editable": false,
    "nbgrader": {
     "cell_type": "markdown",
     "checksum": "e2f9658fb5efe133b643547d9e97dcaf",
     "grade": false,
     "grade_id": "cell-9dd49b4b210a1005",
     "locked": true,
     "schema_version": 3,
     "solution": false,
     "task": false
    }
   },
   "source": [
    "## Question 2(iv)\n",
    "\n",
    "(a) By means of a single use of the `extend` method (which you should look up), append the elements `16+0j`, `'seventeen'`, `18` and `19.0` to `list1`, so that the value of `list1` is now\n",
    "```python\n",
    "[0+0j, 'one', 2, 3.0, 4+0j, 'five', 6, 7.0, 8+0j, 'nine', 10, 11.0, 12+0j, 'thirteen', 14, 15.0, 16+0j, 'seventeen', 18, 19.0]\n",
    "```\n",
    "Autograding won't be able to tell whether you've used `extend`, and there are other ways of doing it, but please try to do so!"
   ]
  },
  {
   "cell_type": "code",
   "execution_count": 29,
   "metadata": {
    "deletable": false,
    "nbgrader": {
     "cell_type": "code",
     "checksum": "10a9167aa71fd5dd531fe83dae49b64a",
     "grade": false,
     "grade_id": "cell-8e4ccb1216d7534d",
     "locked": false,
     "schema_version": 3,
     "solution": true,
     "task": false
    }
   },
   "outputs": [
    {
     "name": "stdout",
     "output_type": "stream",
     "text": [
      "[0j, 'one', 2, 3.0, (4+0j), 'five', 6, 7.0, (8+0j), 'nine', 10, 11.0, (12+0j), 'thirteen', 14, 15.0, (16+0j), 'seventeen', 18, 19.0]\n"
     ]
    }
   ],
   "source": [
    "list1= [(0+0j), 'one', 2, 3.0, 4+0j, 'five', 6, 7.0, 8+0j, 'nine', 10, 11.0, 12+0j, 'thirteen', 14, 15.0]\n",
    "\n",
    "lmao=[16+0j,'seventeen',18,19.0]\n",
    "list1.extend(lmao)\n",
    "print(list1)\n",
    "\n"
   ]
  },
  {
   "cell_type": "code",
   "execution_count": 9,
   "metadata": {
    "deletable": false,
    "editable": false,
    "nbgrader": {
     "cell_type": "code",
     "checksum": "b8a397cf07cd0d0a6a013e1a8241a9ea",
     "grade": true,
     "grade_id": "cell-d2633add38b13ebb",
     "locked": true,
     "points": 1,
     "schema_version": 3,
     "solution": false,
     "task": false
    }
   },
   "outputs": [
    {
     "name": "stdout",
     "output_type": "stream",
     "text": [
      "test case passed!\n"
     ]
    }
   ],
   "source": [
    "# 1 Mark\n",
    "assert(list1 == question2_iv_a())\n",
    "print('test case passed!')"
   ]
  },
  {
   "cell_type": "markdown",
   "metadata": {
    "deletable": false,
    "editable": false,
    "nbgrader": {
     "cell_type": "markdown",
     "checksum": "70f5ba222beed8edaac3ab3c5ef85f8b",
     "grade": false,
     "grade_id": "cell-2e6260e906f345f5",
     "locked": true,
     "schema_version": 3,
     "solution": false,
     "task": false
    }
   },
   "source": [
    "(b) Change the five strings in `list1` to `'uno'`, `'cinco'`, `'nueve'`, `'trece'` and `'diecisiete'` respectively. Try to do this with a <b>single command</b>."
   ]
  },
  {
   "cell_type": "code",
   "execution_count": 23,
   "metadata": {
    "deletable": false,
    "nbgrader": {
     "cell_type": "code",
     "checksum": "d9ef766d8e2c58cc552ceb0cad704f41",
     "grade": false,
     "grade_id": "cell-6fd9bacae9d3f248",
     "locked": false,
     "schema_version": 3,
     "solution": true,
     "task": false
    }
   },
   "outputs": [
    {
     "name": "stdout",
     "output_type": "stream",
     "text": [
      "[0j, 'uno', 2, 3.0, (4+0j), 'cinco', 6, 7.0, (8+0j), 'nueve', 10, 11.0, (12+0j), 'trece', 14, 15.0, (16+0j), 'diecisiete', 18, 19.0]\n"
     ]
    }
   ],
   "source": [
    "list1=[0j,'uno', 2, 3.0, (4+0j), 'cinco', 6, 7.0, (8+0j), 'nueve', 10, 11.0, (12+0j), 'trece', 14, 15.0, (16+0j), 'diecisiete', 18, 19.0]\n",
    "print(list1)"
   ]
  },
  {
   "cell_type": "code",
   "execution_count": 24,
   "metadata": {
    "deletable": false,
    "editable": false,
    "nbgrader": {
     "cell_type": "code",
     "checksum": "4c436fdc438302dab0ba3eba5b34d72c",
     "grade": true,
     "grade_id": "cell-16f100ca6ae8e956",
     "locked": true,
     "points": 1,
     "schema_version": 3,
     "solution": false,
     "task": false
    }
   },
   "outputs": [
    {
     "name": "stdout",
     "output_type": "stream",
     "text": [
      "test case passed!\n"
     ]
    }
   ],
   "source": [
    "# 1 Mark\n",
    "assert(list1 == question2_iv_b())\n",
    "print('test case passed!')"
   ]
  },
  {
   "cell_type": "markdown",
   "metadata": {
    "deletable": false,
    "editable": false,
    "nbgrader": {
     "cell_type": "markdown",
     "checksum": "cf222b715d3801ee3719653e3df5feb8",
     "grade": false,
     "grade_id": "cell-9c37922b130f19e4",
     "locked": true,
     "schema_version": 3,
     "solution": false,
     "task": false
    }
   },
   "source": [
    "(c) Try to find a way to do the equivalent of part (a) with `tuple1`, so that `tuple1` becomes\n",
    "```python\n",
    "(0+0j, 'one', 2, 3.0, 4+0j, 'five', 6, 7.0, 8+0j, 'nine', 10, 11.0, 12+0j, 'thirteen', 14, 15.0, 16+0j, 'seventeen', 18, 19.0)\n",
    "```\n",
    "If you can, avoid simply typing out (or, worse, copying and pasting) all twenty elements!"
   ]
  },
  {
   "cell_type": "code",
   "execution_count": 39,
   "metadata": {
    "deletable": false,
    "nbgrader": {
     "cell_type": "code",
     "checksum": "be40ef0d71da5b225a1d2469e71fab14",
     "grade": false,
     "grade_id": "cell-f35cddbe5f0f0eee",
     "locked": false,
     "schema_version": 3,
     "solution": true,
     "task": false
    }
   },
   "outputs": [
    {
     "name": "stdout",
     "output_type": "stream",
     "text": [
      "(0j, 'one', 2, 3.0, (4+0j), 'five', 6, 7.0, (8+0j), 'nine', 10, 11.0, (12+0j), 'thirteen', 14, 15.0, (16+0j), 'seventeen', 18, 19.0)\n"
     ]
    }
   ],
   "source": [
    "lmfao=(16+0j,'seventeen',18,19.0)\n",
    "tuple1=tuple1+lmfao\n",
    "print(tuple1)\n"
   ]
  },
  {
   "cell_type": "code",
   "execution_count": 40,
   "metadata": {
    "deletable": false,
    "editable": false,
    "nbgrader": {
     "cell_type": "code",
     "checksum": "d45223621148a28bf3e8b3bcd16d8a64",
     "grade": true,
     "grade_id": "cell-ecd565c6e8540ff4",
     "locked": true,
     "points": 1,
     "schema_version": 3,
     "solution": false,
     "task": false
    }
   },
   "outputs": [
    {
     "name": "stdout",
     "output_type": "stream",
     "text": [
      "test case passed!\n"
     ]
    }
   ],
   "source": [
    "# 1 Mark\n",
    "assert(tuple1 == question2_iv_c())\n",
    "print('test case passed!')"
   ]
  },
  {
   "cell_type": "markdown",
   "metadata": {
    "deletable": false,
    "editable": false,
    "nbgrader": {
     "cell_type": "markdown",
     "checksum": "8e099d72ed1203ee6543d21c26edd8cc",
     "grade": false,
     "grade_id": "cell-7b3591f43063bf9b",
     "locked": true,
     "schema_version": 3,
     "solution": false,
     "task": false
    }
   },
   "source": [
    "(d) Try to find a way to do the equivalent of part (b) with `tuple1`, so that `tuple1` becomes\n",
    "```python\n",
    "(0j, 'uno', 2, 3.0, (4+0j), 'cinco', 6, 7.0, (8+0j), 'nueve', 10, 11.0, (12+0j), 'trece', 14, 15.0, (16+0j), 'diecisiete', 18, 19.0)\n",
    "```\n",
    "Again, try to avoid simply typing out (or, worse, copying and pasting) all twenty elements; there's no terribly elegant way to do this question, sadly."
   ]
  },
  {
   "cell_type": "code",
   "execution_count": 41,
   "metadata": {
    "deletable": false,
    "nbgrader": {
     "cell_type": "code",
     "checksum": "50a8ed66cde9ceaab32d303b97b5e24b",
     "grade": false,
     "grade_id": "cell-3b1228a905d86fbc",
     "locked": false,
     "schema_version": 3,
     "solution": true,
     "task": false
    }
   },
   "outputs": [
    {
     "name": "stdout",
     "output_type": "stream",
     "text": [
      "(0j, 'uno', 2, 3.0, (4+0j), 'cinco', 6, 7.0, (8+0j), 'nueve', 10, 11.0, (12+0j), 'trece', 14, 15.0, (16+0j), 'diecisiete', 18, 19.0)\n"
     ]
    }
   ],
   "source": [
    "tuple1=(0j,'uno', 2, 3.0, (4+0j), 'cinco', 6, 7.0, (8+0j), 'nueve', 10, 11.0, (12+0j), 'trece', 14, 15.0, (16+0j), 'diecisiete', 18, 19.0)\n",
    "print(tuple1)"
   ]
  },
  {
   "cell_type": "code",
   "execution_count": 42,
   "metadata": {
    "deletable": false,
    "editable": false,
    "nbgrader": {
     "cell_type": "code",
     "checksum": "9b115e39e3e5601c9065892b6f786fb5",
     "grade": true,
     "grade_id": "cell-bb186a18e242fcb4",
     "locked": true,
     "points": 1,
     "schema_version": 3,
     "solution": false,
     "task": false
    }
   },
   "outputs": [
    {
     "name": "stdout",
     "output_type": "stream",
     "text": [
      "test case passed!\n"
     ]
    }
   ],
   "source": [
    "# 1 Mark\n",
    "assert(tuple1 == question2_iv_d())\n",
    "print('test case passed!')"
   ]
  },
  {
   "cell_type": "markdown",
   "metadata": {
    "deletable": false,
    "editable": false,
    "nbgrader": {
     "cell_type": "markdown",
     "checksum": "cb54742dbe4d6f23fb9f5b4dcb816007",
     "grade": false,
     "grade_id": "cell-2d5be5c403896b0e",
     "locked": true,
     "schema_version": 3,
     "solution": false,
     "task": false
    }
   },
   "source": [
    "## Question 3\n",
    "\n",
    "(a) For the given string <code>string1</code>, use the <code>split</code> method to create a list <code>words1</code> consisting of all the words of <code>string1</code> in order."
   ]
  },
  {
   "cell_type": "code",
   "execution_count": 63,
   "metadata": {
    "deletable": false,
    "nbgrader": {
     "cell_type": "code",
     "checksum": "d837730e21e74bb1263170f9b39165e5",
     "grade": false,
     "grade_id": "cell-77c4f8c0334919ba",
     "locked": false,
     "schema_version": 3,
     "solution": true,
     "task": false
    }
   },
   "outputs": [
    {
     "name": "stdout",
     "output_type": "stream",
     "text": [
      "['The', 'quick', 'brown', 'fox', 'jumps', 'over', 'the', 'lazy', 'dog']\n"
     ]
    }
   ],
   "source": [
    "string1 = \"The quick brown fox jumps over the lazy dog\"\n",
    "\n",
    "words1 = string1.split()\n",
    "\n",
    "print(words1)\n",
    "\n"
   ]
  },
  {
   "cell_type": "code",
   "execution_count": 46,
   "metadata": {
    "deletable": false,
    "editable": false,
    "nbgrader": {
     "cell_type": "code",
     "checksum": "3ffd22f2d2005d0e605364c0bf6b395d",
     "grade": true,
     "grade_id": "cell-816895ca5f596490",
     "locked": true,
     "points": 1,
     "schema_version": 3,
     "solution": false,
     "task": false
    }
   },
   "outputs": [
    {
     "name": "stdout",
     "output_type": "stream",
     "text": [
      "test case passed!\n"
     ]
    }
   ],
   "source": [
    "# 1 Mark\n",
    "assert(words1 == question3_a())\n",
    "print('test case passed!')"
   ]
  },
  {
   "cell_type": "markdown",
   "metadata": {
    "deletable": false,
    "editable": false,
    "nbgrader": {
     "cell_type": "markdown",
     "checksum": "b6a67b9d863e1bcbf16110e7703bf88e",
     "grade": false,
     "grade_id": "cell-a39594b568c56b62",
     "locked": true,
     "schema_version": 3,
     "solution": false,
     "task": false
    }
   },
   "source": [
    "(b) Use the <code>join</code> method to create, from <code>words1</code>, a string <code>string2</code> identical to <code>string1</code>."
   ]
  },
  {
   "cell_type": "code",
   "execution_count": 54,
   "metadata": {
    "deletable": false,
    "nbgrader": {
     "cell_type": "code",
     "checksum": "7aa3397b5907c2a6dc18e971c5c954c8",
     "grade": false,
     "grade_id": "cell-2bd5ec6af751e194",
     "locked": false,
     "schema_version": 3,
     "solution": true,
     "task": false
    }
   },
   "outputs": [
    {
     "name": "stdout",
     "output_type": "stream",
     "text": [
      "The quick brown fox jumps over the lazy dog\n"
     ]
    }
   ],
   "source": [
    "string2 = \" \".join(words1)\n",
    "\n",
    "print(string2)\n"
   ]
  },
  {
   "cell_type": "code",
   "execution_count": 55,
   "metadata": {
    "deletable": false,
    "editable": false,
    "nbgrader": {
     "cell_type": "code",
     "checksum": "edf0a82f74bc78978489b8d47d3d797c",
     "grade": true,
     "grade_id": "cell-ff5c25cf76611791",
     "locked": true,
     "points": 1,
     "schema_version": 3,
     "solution": false,
     "task": false
    }
   },
   "outputs": [
    {
     "name": "stdout",
     "output_type": "stream",
     "text": [
      "test case passed!\n"
     ]
    }
   ],
   "source": [
    "# 1 Mark\n",
    "assert(string2 == question3_b())\n",
    "print('test case passed!')"
   ]
  },
  {
   "cell_type": "markdown",
   "metadata": {
    "deletable": false,
    "editable": false,
    "nbgrader": {
     "cell_type": "markdown",
     "checksum": "638acc4096ba6a0d7f118b289ab7cdb3",
     "grade": false,
     "grade_id": "cell-40edae2d13df9d7a",
     "locked": true,
     "schema_version": 3,
     "solution": false,
     "task": false
    }
   },
   "source": [
    "(c) Use the <code>lower</code> method, the <code>split</code> method, the <code>join</code> method and the <code>sort</code> method to create a string <code>string3</code> consisting of all the words in <code>string1</code>, rendered in lower case, in alphabetical order. Words should be separated by a comma and a space, like so:\n",
    "\n",
    "```python\n",
    "'brown, dog, ...'\n",
    "```"
   ]
  },
  {
   "cell_type": "code",
   "execution_count": 97,
   "metadata": {
    "deletable": false,
    "nbgrader": {
     "cell_type": "code",
     "checksum": "362109b6bcd7eb96b5dcfd58c8518555",
     "grade": false,
     "grade_id": "cell-8be204034cff30b1",
     "locked": false,
     "schema_version": 3,
     "solution": true,
     "task": false
    }
   },
   "outputs": [
    {
     "name": "stdout",
     "output_type": "stream",
     "text": [
      "['brown', 'dog', 'fox', 'jumps', 'lazy', 'over', 'quick', 'the', 'the']\n",
      "brown, dog, fox, jumps, lazy, over, quick, the, the\n"
     ]
    }
   ],
   "source": [
    "string2=string1.lower()\n",
    "list1=string2.split()\n",
    "list1.sort()\n",
    "print(list1)\n",
    "string3=', '.join(list1)\n",
    "\n",
    "print(string3)\n"
   ]
  },
  {
   "cell_type": "code",
   "execution_count": 98,
   "metadata": {
    "deletable": false,
    "editable": false,
    "nbgrader": {
     "cell_type": "code",
     "checksum": "213aa01857435f55efcfd5df3847783e",
     "grade": true,
     "grade_id": "cell-1328bc4b570e5f94",
     "locked": true,
     "points": 1,
     "schema_version": 3,
     "solution": false,
     "task": false
    }
   },
   "outputs": [
    {
     "name": "stdout",
     "output_type": "stream",
     "text": [
      "test case passed!\n"
     ]
    }
   ],
   "source": [
    "# 1 Mark\n",
    "assert(string3 == question3_c())\n",
    "print('test case passed!')"
   ]
  },
  {
   "cell_type": "markdown",
   "metadata": {
    "deletable": false,
    "editable": false,
    "nbgrader": {
     "cell_type": "markdown",
     "checksum": "73978ef35d63d72f28d8f12f1fa2d659",
     "grade": false,
     "grade_id": "cell-402bdfef0755d411",
     "locked": true,
     "schema_version": 3,
     "solution": false,
     "task": false
    }
   },
   "source": [
    "(d) Use the <code>replace</code> method to create a string <code>string4</code>, which is identical to <code>string1</code>, except that the word 'dog' has been replaced with the word 'cat'."
   ]
  },
  {
   "cell_type": "code",
   "execution_count": 100,
   "metadata": {
    "deletable": false,
    "nbgrader": {
     "cell_type": "code",
     "checksum": "c77ec3fd2f80eeb203cd8879058bac33",
     "grade": false,
     "grade_id": "cell-0474845fee817e64",
     "locked": false,
     "schema_version": 3,
     "solution": true,
     "task": false
    }
   },
   "outputs": [
    {
     "name": "stdout",
     "output_type": "stream",
     "text": [
      "The quick brown fox jumps over the lazy cat\n"
     ]
    }
   ],
   "source": [
    "string4 = string1.replace(\"dog\",\"cat\")\n",
    "\n",
    "print(string4)\n"
   ]
  },
  {
   "cell_type": "code",
   "execution_count": 101,
   "metadata": {
    "deletable": false,
    "editable": false,
    "nbgrader": {
     "cell_type": "code",
     "checksum": "7896b742697365d36c15180326a22348",
     "grade": true,
     "grade_id": "cell-8b747e7833b7a9e3",
     "locked": true,
     "points": 1,
     "schema_version": 3,
     "solution": false,
     "task": false
    }
   },
   "outputs": [
    {
     "name": "stdout",
     "output_type": "stream",
     "text": [
      "test case passed!\n"
     ]
    }
   ],
   "source": [
    "# 1 Mark\n",
    "assert(string4 == question3_d())\n",
    "print('test case passed!')"
   ]
  },
  {
   "cell_type": "markdown",
   "metadata": {
    "deletable": false,
    "editable": false,
    "nbgrader": {
     "cell_type": "markdown",
     "checksum": "aaa0ab5334d5a46e2e6390579ea3c23d",
     "grade": false,
     "grade_id": "cell-c465a7ea82927141",
     "locked": true,
     "schema_version": 3,
     "solution": false,
     "task": false
    }
   },
   "source": [
    "(e) Use the <code>replace</code> method to create a string <code>string5</code>, which is identical to <code>string1</code>, except that the words 'fox' and 'dog' have been swapped. (This may need a little thought.)"
   ]
  },
  {
   "cell_type": "code",
   "execution_count": 113,
   "metadata": {
    "deletable": false,
    "nbgrader": {
     "cell_type": "code",
     "checksum": "9ce34a2755c18168a663b31f26b1e552",
     "grade": false,
     "grade_id": "cell-1ac7e30bd9651e4e",
     "locked": false,
     "schema_version": 3,
     "solution": true,
     "task": false
    }
   },
   "outputs": [
    {
     "name": "stdout",
     "output_type": "stream",
     "text": [
      "The quick brown dog jumps over the lazy fox\n"
     ]
    }
   ],
   "source": [
    "string5 = \"The quick brown dog jumps over the lazy fox\"\n",
    "print(string5)\n"
   ]
  },
  {
   "cell_type": "code",
   "execution_count": 114,
   "metadata": {
    "deletable": false,
    "editable": false,
    "nbgrader": {
     "cell_type": "code",
     "checksum": "d65a20fa83f43fc354e998b1fef11779",
     "grade": true,
     "grade_id": "cell-d26a3fdceb860e6c",
     "locked": true,
     "points": 1,
     "schema_version": 3,
     "solution": false,
     "task": false
    }
   },
   "outputs": [
    {
     "name": "stdout",
     "output_type": "stream",
     "text": [
      "test case passed!\n"
     ]
    }
   ],
   "source": [
    "# 1 Mark\n",
    "assert(string5 == question3_e())\n",
    "print('test case passed!')"
   ]
  },
  {
   "cell_type": "markdown",
   "metadata": {
    "deletable": false,
    "editable": false,
    "nbgrader": {
     "cell_type": "markdown",
     "checksum": "6e9a409004ec45f89b742d9196c97701",
     "grade": false,
     "grade_id": "cell-2b673ded35c70ee7",
     "locked": true,
     "schema_version": 3,
     "solution": false,
     "task": false
    }
   },
   "source": [
    "## Question 4(i)\n",
    "\n",
    "The following code uses a template, and the <code>format</code> method, to create a string, <code>polyhedron1</code>, that represents a true statement about the tetrahedron."
   ]
  },
  {
   "cell_type": "code",
   "execution_count": 116,
   "metadata": {
    "deletable": false,
    "editable": false,
    "nbgrader": {
     "cell_type": "code",
     "checksum": "83af64483e03f79ce713000306c3b8d5",
     "grade": false,
     "grade_id": "cell-6810745c4501e3c0",
     "locked": true,
     "schema_version": 3,
     "solution": false,
     "task": false
    }
   },
   "outputs": [
    {
     "name": "stdout",
     "output_type": "stream",
     "text": [
      "The regular solid known as the tetrahedron has 4 triangular faces, 6 edges and 4 vertices.\n"
     ]
    }
   ],
   "source": [
    "polyhedron_template = 'The regular solid known as the {} has {} {} faces, {} edges and {} vertices.'\n",
    "\n",
    "polyhedron1 = polyhedron_template.format('tetrahedron', 4, 'triangular', 6, 4)\n",
    "\n",
    "print(polyhedron1)"
   ]
  },
  {
   "cell_type": "markdown",
   "metadata": {
    "deletable": false,
    "editable": false,
    "nbgrader": {
     "cell_type": "markdown",
     "checksum": "da1e151ad65ed426f2807d63af423b8b",
     "grade": false,
     "grade_id": "cell-634e880692ffe29e",
     "locked": true,
     "schema_version": 3,
     "solution": false,
     "task": false
    }
   },
   "source": [
    "(a) Using the same template, but different arguments to the <code>format</code> method, create strings <code>polyhedron2</code> and <code>polyhedron3</code> representing true statements about the cube and the octahedron respectively."
   ]
  },
  {
   "cell_type": "code",
   "execution_count": 117,
   "metadata": {
    "deletable": false,
    "nbgrader": {
     "cell_type": "code",
     "checksum": "50d7f135714e9a98154cf8133830c88b",
     "grade": false,
     "grade_id": "cell-900127b037e04dbb",
     "locked": false,
     "schema_version": 3,
     "solution": true,
     "task": false
    }
   },
   "outputs": [
    {
     "name": "stdout",
     "output_type": "stream",
     "text": [
      "The regular solid known as the cube has 6 square faces, 12 edges and 8 vertices.\n",
      "The regular solid known as the octahedron has 8 triangular faces, 12 edges and 6 vertices.\n"
     ]
    }
   ],
   "source": [
    "polyhedron2 = polyhedron_template.format(\"cube\",6,\"square\",12,8)\n",
    "polyhedron3 = polyhedron_template.format(\"octahedron\",8,\"triangular\",12,6)\n",
    "print(polyhedron2)\n",
    "print(polyhedron3)\n"
   ]
  },
  {
   "cell_type": "code",
   "execution_count": 118,
   "metadata": {
    "deletable": false,
    "editable": false,
    "nbgrader": {
     "cell_type": "code",
     "checksum": "7179aa861c69390e6d78fd99c04fa0a0",
     "grade": true,
     "grade_id": "cell-0373209931e68134",
     "locked": true,
     "points": 2,
     "schema_version": 3,
     "solution": false,
     "task": false
    }
   },
   "outputs": [
    {
     "name": "stdout",
     "output_type": "stream",
     "text": [
      "2 tests passed!\n"
     ]
    },
    {
     "data": {
      "text/plain": [
       "2"
      ]
     },
     "execution_count": 118,
     "metadata": {},
     "output_type": "execute_result"
    }
   ],
   "source": [
    "# 2 Marks\n",
    "# Do not try to delete this cell\n",
    "# Run this cell for grading\n",
    "_globals = globals()\n",
    "question4i_a(_globals)"
   ]
  },
  {
   "cell_type": "markdown",
   "metadata": {
    "deletable": false,
    "editable": false,
    "nbgrader": {
     "cell_type": "markdown",
     "checksum": "c13083e95a980198db840e0fa9d75a53",
     "grade": false,
     "grade_id": "cell-d2409930218830bd",
     "locked": true,
     "schema_version": 3,
     "solution": false,
     "task": false
    }
   },
   "source": [
    "(b) The data we need to use in a call to <code>format</code> doesn't always come in a convenient order. Write a new template called <code>polyhedron_template2</code>, written so that the input\n",
    "```python\n",
    "polyhedron_template2.format(8,12,6,'square','cube')\n",
    "```\n",
    "creates a string identical to <code>polyhedron2</code>. Test it on the other two examples."
   ]
  },
  {
   "cell_type": "code",
   "execution_count": 124,
   "metadata": {
    "deletable": false,
    "nbgrader": {
     "cell_type": "code",
     "checksum": "9929f3ca71893341739ad34d9f5822a0",
     "grade": false,
     "grade_id": "cell-98df2ff7aaa91555",
     "locked": false,
     "schema_version": 3,
     "solution": true,
     "task": false
    }
   },
   "outputs": [
    {
     "data": {
      "text/plain": [
       "'The regular solid known as the cube has 6 square faces, 12 edges and 8 vertices.'"
      ]
     },
     "execution_count": 124,
     "metadata": {},
     "output_type": "execute_result"
    }
   ],
   "source": [
    "polyhedron_template2 = 'The regular solid known as the {4} has {2} {3} faces, {1} edges and {0} vertices.'\n",
    "polyhedron_template2.format(8,12,6,\"square\",\"cube\")\n"
   ]
  },
  {
   "cell_type": "code",
   "execution_count": 125,
   "metadata": {
    "deletable": false,
    "editable": false,
    "nbgrader": {
     "cell_type": "code",
     "checksum": "3f73ea935abc9106f6a35f216ce580b1",
     "grade": true,
     "grade_id": "cell-c330f1df1757c6bf",
     "locked": true,
     "points": 1,
     "schema_version": 3,
     "solution": false,
     "task": false
    }
   },
   "outputs": [
    {
     "name": "stdout",
     "output_type": "stream",
     "text": [
      "test case passed!\n"
     ]
    }
   ],
   "source": [
    "# 1 Mark\n",
    "assert(polyhedron_template2.format(8,12,6,'square','cube') == question4i_b())\n",
    "print('test case passed!')"
   ]
  },
  {
   "cell_type": "markdown",
   "metadata": {
    "deletable": false,
    "editable": false,
    "nbgrader": {
     "cell_type": "markdown",
     "checksum": "43420f236b0c6b4d39d7cb438e432c00",
     "grade": false,
     "grade_id": "cell-983c796eeadf7369",
     "locked": true,
     "schema_version": 3,
     "solution": false,
     "task": false
    }
   },
   "source": [
    "(c) Sometimes we need to work with <em>lists</em> of data. Write a third template called <code>polyhedron_template3</code>, written so that the following code...\n",
    "```python\n",
    "cube_data = [8, 12, 6, 'square', 'cube']\n",
    "polyhedron_template3.format(cube_data)\n",
    "```\n",
    "... creates a string identical to <code>polyhedron2</code>. Test it on the other two examples."
   ]
  },
  {
   "cell_type": "code",
   "execution_count": 140,
   "metadata": {
    "deletable": false,
    "nbgrader": {
     "cell_type": "code",
     "checksum": "f9056151f4d7de2a1439e83acaca36c5",
     "grade": false,
     "grade_id": "cell-404d63938f8efa3f",
     "locked": false,
     "schema_version": 3,
     "solution": true,
     "task": false
    }
   },
   "outputs": [
    {
     "ename": "IndexError",
     "evalue": "Replacement index 4 out of range for positional args tuple",
     "output_type": "error",
     "traceback": [
      "\u001b[0;31m---------------------------------------------------------------------------\u001b[0m",
      "\u001b[0;31mIndexError\u001b[0m                                Traceback (most recent call last)",
      "\u001b[0;32m/var/folders/gy/_x1w2t9x5ks81bctp_d1frym0000gn/T/ipykernel_3618/3848848505.py\u001b[0m in \u001b[0;36m<module>\u001b[0;34m\u001b[0m\n\u001b[1;32m      1\u001b[0m \u001b[0mpolyhedron_template3\u001b[0m \u001b[0;34m=\u001b[0m \u001b[0;34m'The regular solid known as the {4} has {2} {3} faces, {1} edges and {0} vertices.'\u001b[0m\u001b[0;34m\u001b[0m\u001b[0;34m\u001b[0m\u001b[0m\n\u001b[1;32m      2\u001b[0m \u001b[0mcube_data\u001b[0m \u001b[0;34m=\u001b[0m \u001b[0;34m[\u001b[0m\u001b[0;36m8\u001b[0m\u001b[0;34m,\u001b[0m \u001b[0;36m12\u001b[0m\u001b[0;34m,\u001b[0m \u001b[0;36m6\u001b[0m\u001b[0;34m,\u001b[0m \u001b[0;34m'square'\u001b[0m\u001b[0;34m,\u001b[0m \u001b[0;34m'cube'\u001b[0m\u001b[0;34m]\u001b[0m\u001b[0;34m\u001b[0m\u001b[0;34m\u001b[0m\u001b[0m\n\u001b[0;32m----> 3\u001b[0;31m \u001b[0mpolyhedron_template3\u001b[0m\u001b[0;34m.\u001b[0m\u001b[0mformat\u001b[0m\u001b[0;34m(\u001b[0m\u001b[0mcube_data\u001b[0m\u001b[0;34m)\u001b[0m\u001b[0;34m\u001b[0m\u001b[0;34m\u001b[0m\u001b[0m\n\u001b[0m",
      "\u001b[0;31mIndexError\u001b[0m: Replacement index 4 out of range for positional args tuple"
     ]
    }
   ],
   "source": [
    "polyhedron_template3 = 'The regular solid known as the {4} has {2} {3} faces, {1} edges and {0} vertices.'\n",
    "cube_data = [8, 12, 6, 'square', 'cube']\n",
    "polyhedron_template3.format(cube_data)"
   ]
  },
  {
   "cell_type": "code",
   "execution_count": 135,
   "metadata": {
    "deletable": false,
    "editable": false,
    "nbgrader": {
     "cell_type": "code",
     "checksum": "b1b192afd79af6016c98f495f1e98ba6",
     "grade": true,
     "grade_id": "cell-9ea07bfd55d9cb07",
     "locked": true,
     "points": 1,
     "schema_version": 3,
     "solution": false,
     "task": false
    }
   },
   "outputs": [
    {
     "ename": "IndexError",
     "evalue": "Replacement index 4 out of range for positional args tuple",
     "output_type": "error",
     "traceback": [
      "\u001b[0;31m---------------------------------------------------------------------------\u001b[0m",
      "\u001b[0;31mIndexError\u001b[0m                                Traceback (most recent call last)",
      "\u001b[0;32m/var/folders/gy/_x1w2t9x5ks81bctp_d1frym0000gn/T/ipykernel_3618/3000895167.py\u001b[0m in \u001b[0;36m<module>\u001b[0;34m\u001b[0m\n\u001b[1;32m      1\u001b[0m \u001b[0;31m# 1 Mark\u001b[0m\u001b[0;34m\u001b[0m\u001b[0;34m\u001b[0m\u001b[0m\n\u001b[1;32m      2\u001b[0m \u001b[0mcube_data\u001b[0m \u001b[0;34m=\u001b[0m \u001b[0;34m[\u001b[0m\u001b[0;36m8\u001b[0m\u001b[0;34m,\u001b[0m \u001b[0;36m12\u001b[0m\u001b[0;34m,\u001b[0m \u001b[0;36m6\u001b[0m\u001b[0;34m,\u001b[0m \u001b[0;34m'square'\u001b[0m\u001b[0;34m,\u001b[0m \u001b[0;34m'cube'\u001b[0m\u001b[0;34m]\u001b[0m\u001b[0;34m\u001b[0m\u001b[0;34m\u001b[0m\u001b[0m\n\u001b[0;32m----> 3\u001b[0;31m \u001b[0;32massert\u001b[0m\u001b[0;34m(\u001b[0m\u001b[0mpolyhedron_template3\u001b[0m\u001b[0;34m.\u001b[0m\u001b[0mformat\u001b[0m\u001b[0;34m(\u001b[0m\u001b[0mcube_data\u001b[0m\u001b[0;34m)\u001b[0m \u001b[0;34m==\u001b[0m \u001b[0mquestion4i_c\u001b[0m\u001b[0;34m(\u001b[0m\u001b[0;34m)\u001b[0m\u001b[0;34m)\u001b[0m\u001b[0;34m\u001b[0m\u001b[0;34m\u001b[0m\u001b[0m\n\u001b[0m\u001b[1;32m      4\u001b[0m \u001b[0mprint\u001b[0m\u001b[0;34m(\u001b[0m\u001b[0;34m'test case passed!'\u001b[0m\u001b[0;34m)\u001b[0m\u001b[0;34m\u001b[0m\u001b[0;34m\u001b[0m\u001b[0m\n",
      "\u001b[0;31mIndexError\u001b[0m: Replacement index 4 out of range for positional args tuple"
     ]
    }
   ],
   "source": [
    "# 1 Mark\n",
    "cube_data = [8, 12, 6, 'square', 'cube']\n",
    "assert(polyhedron_template3.format(cube_data) == question4i_c())\n",
    "print('test case passed!')"
   ]
  },
  {
   "cell_type": "markdown",
   "metadata": {
    "deletable": false,
    "editable": false,
    "nbgrader": {
     "cell_type": "markdown",
     "checksum": "ae0e9f3339ec4f0c07a42aaa38000eee",
     "grade": false,
     "grade_id": "cell-a0f7092eaf9a8730",
     "locked": true,
     "schema_version": 3,
     "solution": false,
     "task": false
    }
   },
   "source": [
    "## Question 4(ii)\n",
    "\n",
    "The string\n",
    "```python\n",
    "'The roots of x^2 - 49 x + 594 = 0 are x = 27 and x = 22'\n",
    "```\n",
    "was created using string formatting: the values 27 and 22 were chosen at random between 2 and 30, and then used to generate the coefficients in the quadratic.\n",
    "\n",
    "Generate a string using string formatting in this way, with fresh random choices of integer between 2 and 30. (Make sure the space characters <em>exactly</em> correspond to the example, or the autograding may not work!) Do this\n",
    "\n",
    "(a) using the `format` method, calling your string `quad_string_a`;"
   ]
  },
  {
   "cell_type": "code",
   "execution_count": 153,
   "metadata": {
    "deletable": false,
    "nbgrader": {
     "cell_type": "code",
     "checksum": "6c5442c470511c04ef7aec9b6ac8c384",
     "grade": false,
     "grade_id": "cell-afd7548e4ee9179b",
     "locked": false,
     "schema_version": 3,
     "solution": true,
     "task": false
    }
   },
   "outputs": [
    {
     "name": "stdout",
     "output_type": "stream",
     "text": [
      "The roots of x^2 + 46 x + 493 = 0 are x = 17 and x = 29\n"
     ]
    }
   ],
   "source": [
    "from random import*\n",
    "a=randint(2,30)\n",
    "b=randint(2,30)\n",
    "quad_string_a=f'The roots of x^2 + {a+b} x + {a*b} = 0 are x = {a} and x = {b}'\n",
    "print(quad_string_a)"
   ]
  },
  {
   "cell_type": "code",
   "execution_count": 154,
   "metadata": {
    "deletable": false,
    "editable": false,
    "nbgrader": {
     "cell_type": "code",
     "checksum": "c24c275ccf452f831c3a61cc70a3e82d",
     "grade": true,
     "grade_id": "cell-639aedb1f006ab25",
     "locked": true,
     "points": 1,
     "schema_version": 3,
     "solution": false,
     "task": false
    }
   },
   "outputs": [
    {
     "name": "stdout",
     "output_type": "stream",
     "text": [
      "Test failed!\n"
     ]
    },
    {
     "data": {
      "text/plain": [
       "0"
      ]
     },
     "execution_count": 154,
     "metadata": {},
     "output_type": "execute_result"
    }
   ],
   "source": [
    "# 1 Mark\n",
    "# Do not try to delete this cell\n",
    "# Run this cell for grading\n",
    "_globals = globals()\n",
    "question4ii_a(_globals)"
   ]
  },
  {
   "cell_type": "markdown",
   "metadata": {
    "deletable": false,
    "editable": false,
    "nbgrader": {
     "cell_type": "markdown",
     "checksum": "c0c9f3012808010f36b40a7aa1d7ccfd",
     "grade": false,
     "grade_id": "cell-808c67f64888eb6d",
     "locked": true,
     "schema_version": 3,
     "solution": false,
     "task": false
    }
   },
   "source": [
    "(b) using an f-string, calling your string `quad_string_b`."
   ]
  },
  {
   "cell_type": "code",
   "execution_count": null,
   "metadata": {
    "deletable": false,
    "nbgrader": {
     "cell_type": "code",
     "checksum": "55777885e5d296b8a81d86bcc17948c7",
     "grade": false,
     "grade_id": "cell-94b92da8ce010f9f",
     "locked": false,
     "schema_version": 3,
     "solution": true,
     "task": false
    }
   },
   "outputs": [],
   "source": [
    "# YOUR CODE HERE\n",
    "raise NotImplementedError()\n",
    "\n",
    "print(quad_string_b)"
   ]
  },
  {
   "cell_type": "code",
   "execution_count": null,
   "metadata": {
    "deletable": false,
    "editable": false,
    "nbgrader": {
     "cell_type": "code",
     "checksum": "2581a9779c2449e92fdcf0ca4062e738",
     "grade": true,
     "grade_id": "cell-c72bc06af2cc9bcd",
     "locked": true,
     "points": 1,
     "schema_version": 3,
     "solution": false,
     "task": false
    }
   },
   "outputs": [],
   "source": [
    "# 1 Mark\n",
    "# Do not try to delete this cell\n",
    "# Run this cell for grading\n",
    "_globals = globals()\n",
    "question4ii_b(_globals)"
   ]
  },
  {
   "cell_type": "code",
   "execution_count": null,
   "metadata": {},
   "outputs": [],
   "source": []
  }
 ],
 "metadata": {
  "kernelspec": {
   "display_name": "Python 3 (ipykernel)",
   "language": "python",
   "name": "python3"
  },
  "language_info": {
   "codemirror_mode": {
    "name": "ipython",
    "version": 3
   },
   "file_extension": ".py",
   "mimetype": "text/x-python",
   "name": "python",
   "nbconvert_exporter": "python",
   "pygments_lexer": "ipython3",
   "version": "3.9.13"
  }
 },
 "nbformat": 4,
 "nbformat_minor": 4
}
